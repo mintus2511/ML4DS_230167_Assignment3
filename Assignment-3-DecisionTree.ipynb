{
  "cells": [
    {
      "cell_type": "markdown",
      "metadata": {
        "id": "HFyFIqvM9fvK"
      },
      "source": [
        "# Assignment 3: Decision Tree and Random Forest {-}\n",
        "\n",
        "This assignment aims at familiarizing you with training and testing Decision Tree and Random Forest classification model. The dataset you will be working on is 'data-employee-recruitment.csv'. It is composed of attributes such as employee gender, education level, company size, etc., to develop an employee recruitment prediction model. You will have to do:\n",
        "\n",
        "1.  **(5 points) Coding tasks:** The following questions involve writing code to complete specific tasks.  \n",
        "    1.1 *(1 point)* Load the data-employee-recruitment.csv dataset and perform basic data cleaning, analysis and visualization to have a deep understanding about the data.  \n",
        "    1.2 *(1 point)* Check if the dataset is imbalanced. If necessary, apply SMOTE or another resampling technique to balance the classes.The technique should be applied only to the training set, while the test set should remain unchanged.  \n",
        "    1.3 *(1 point)* Use GridSearchCV to find the best hyperparameters for both Decision Tree and Random Forest model. Report the best parameters.  \n",
        "    1.4 *(1 point)* Train a Random Forest model and identify the most important features influencing job change predictions. Visualize the feature importance scores.  \n",
        "    1.5 *(1 point)* Train a Decision Tree classifier and visualize the resulting tree structure. Explain any patterns or rules observed from the tree.  \n",
        "\n",
        "2.  **(5 points) Open discussion questions:** These discussion questions ask you to analyze and argue your points.  Feel free to include relevant code examples to strengthen your arguments.  \n",
        "    2.1 *(1 point)* Which features in the dataset do you think are most important for predicting job changes? Did the feature importance analysis confirm your expectations?  \n",
        "    2.2 *(1 point)* How did the performance of the Random Forest model compare to the Decision Tree model? Was this result expected?  \n",
        "    2.3 *(1 point)* When visualizing the Decision Tree, were the splits and decisions intuitive? Did you notice any surprising decision rules?  \n",
        "    2.4 *(1 point)* How could a company use a predictive model like this to improve its hiring and retention strategy? What are the potential benefits and risks?  \n",
        "    2.5 *(1 point)* What part of this assignment did you find most difficult or insightful? If you had more time, what additional improvements would you make?  \n",
        "\n",
        "### Submission {-}\n",
        "The structure of submission folder should be organized as follows:\n",
        "\n",
        "- ./\\<StudentID>-assignment3-notebook.ipynb: Jupyter notebook containing source code.\n",
        "\n",
        "The submission folder is named ML4DS-\\<StudentID>-Assignment3 (e.g., ML4DS-2012345-Assigment3) and then compressed with the same name.\n",
        "    \n",
        "### Evaluation {-}\n",
        "Assignment evaluation will be conducted on how you accomplish the assignment requirements. It is a plus if you have data exploration and modeling steps other than the basic requirements. In addition, your code should conform to a Python coding convention such as PEP-8.\n",
        "\n",
        "### Deadline {-}\n",
        "Please visit Canvas for details."
      ]
    },
    {
      "cell_type": "code",
      "execution_count": null,
      "metadata": {
        "id": "fTT16vA7OSeT"
      },
      "outputs": [],
      "source": [
        "# Load Pandas library and load the dataset\n",
        "import pandas as pd\n",
        "df = pd.read_csv(\"data-employee-recruitment.csv\")"
      ]
    },
    {
      "cell_type": "code",
      "execution_count": null,
      "metadata": {
        "colab": {
          "base_uri": "https://localhost:8080/",
          "height": 305
        },
        "id": "yw__0ozDULdP",
        "outputId": "0b3df463-5ade-46d7-b656-397b68dee2fd"
      },
      "outputs": [
        {
          "data": {
            "text/html": [
              "<div>\n",
              "<style scoped>\n",
              "    .dataframe tbody tr th:only-of-type {\n",
              "        vertical-align: middle;\n",
              "    }\n",
              "\n",
              "    .dataframe tbody tr th {\n",
              "        vertical-align: top;\n",
              "    }\n",
              "\n",
              "    .dataframe thead th {\n",
              "        text-align: right;\n",
              "    }\n",
              "</style>\n",
              "<table border=\"1\" class=\"dataframe\">\n",
              "  <thead>\n",
              "    <tr style=\"text-align: right;\">\n",
              "      <th></th>\n",
              "      <th>enrollee_id</th>\n",
              "      <th>city_development_index</th>\n",
              "      <th>gender</th>\n",
              "      <th>relevent_experience</th>\n",
              "      <th>enrolled_university</th>\n",
              "      <th>education_level</th>\n",
              "      <th>major_discipline</th>\n",
              "      <th>experience</th>\n",
              "      <th>company_size</th>\n",
              "      <th>company_type</th>\n",
              "      <th>last_new_job</th>\n",
              "      <th>training_hours</th>\n",
              "      <th>target</th>\n",
              "    </tr>\n",
              "  </thead>\n",
              "  <tbody>\n",
              "    <tr>\n",
              "      <th>0</th>\n",
              "      <td>14569</td>\n",
              "      <td>0.704</td>\n",
              "      <td>Male</td>\n",
              "      <td>Has relevent experience</td>\n",
              "      <td>Full time course</td>\n",
              "      <td>Graduate</td>\n",
              "      <td>STEM</td>\n",
              "      <td>2</td>\n",
              "      <td>50-99</td>\n",
              "      <td>Pvt Ltd</td>\n",
              "      <td>2</td>\n",
              "      <td>71</td>\n",
              "      <td>1.0</td>\n",
              "    </tr>\n",
              "    <tr>\n",
              "      <th>1</th>\n",
              "      <td>10557</td>\n",
              "      <td>0.594</td>\n",
              "      <td>Female</td>\n",
              "      <td>Has relevent experience</td>\n",
              "      <td>Full time course</td>\n",
              "      <td>Masters</td>\n",
              "      <td>STEM</td>\n",
              "      <td>9</td>\n",
              "      <td>50-99</td>\n",
              "      <td>Early Stage Startup</td>\n",
              "      <td>never</td>\n",
              "      <td>217</td>\n",
              "      <td>1.0</td>\n",
              "    </tr>\n",
              "    <tr>\n",
              "      <th>2</th>\n",
              "      <td>14095</td>\n",
              "      <td>0.596</td>\n",
              "      <td>Male</td>\n",
              "      <td>Has relevent experience</td>\n",
              "      <td>Part time course</td>\n",
              "      <td>Graduate</td>\n",
              "      <td>Humanities</td>\n",
              "      <td>2</td>\n",
              "      <td>100-500</td>\n",
              "      <td>Pvt Ltd</td>\n",
              "      <td>2</td>\n",
              "      <td>12</td>\n",
              "      <td>1.0</td>\n",
              "    </tr>\n",
              "    <tr>\n",
              "      <th>3</th>\n",
              "      <td>16300</td>\n",
              "      <td>0.614</td>\n",
              "      <td>Male</td>\n",
              "      <td>Has relevent experience</td>\n",
              "      <td>Full time course</td>\n",
              "      <td>Masters</td>\n",
              "      <td>STEM</td>\n",
              "      <td>4</td>\n",
              "      <td>50-99</td>\n",
              "      <td>Pvt Ltd</td>\n",
              "      <td>1</td>\n",
              "      <td>20</td>\n",
              "      <td>1.0</td>\n",
              "    </tr>\n",
              "    <tr>\n",
              "      <th>4</th>\n",
              "      <td>14550</td>\n",
              "      <td>0.534</td>\n",
              "      <td>Male</td>\n",
              "      <td>No relevent experience</td>\n",
              "      <td>Full time course</td>\n",
              "      <td>Graduate</td>\n",
              "      <td>STEM</td>\n",
              "      <td>&lt;1</td>\n",
              "      <td>50-99</td>\n",
              "      <td>Early Stage Startup</td>\n",
              "      <td>1</td>\n",
              "      <td>52</td>\n",
              "      <td>1.0</td>\n",
              "    </tr>\n",
              "  </tbody>\n",
              "</table>\n",
              "</div>"
            ],
            "text/plain": [
              "   enrollee_id  city_development_index  gender      relevent_experience  \\\n",
              "0        14569                   0.704    Male  Has relevent experience   \n",
              "1        10557                   0.594  Female  Has relevent experience   \n",
              "2        14095                   0.596    Male  Has relevent experience   \n",
              "3        16300                   0.614    Male  Has relevent experience   \n",
              "4        14550                   0.534    Male   No relevent experience   \n",
              "\n",
              "  enrolled_university education_level major_discipline experience  \\\n",
              "0    Full time course        Graduate             STEM          2   \n",
              "1    Full time course         Masters             STEM          9   \n",
              "2    Part time course        Graduate       Humanities          2   \n",
              "3    Full time course         Masters             STEM          4   \n",
              "4    Full time course        Graduate             STEM         <1   \n",
              "\n",
              "  company_size         company_type last_new_job  training_hours  target  \n",
              "0        50-99              Pvt Ltd            2              71     1.0  \n",
              "1        50-99  Early Stage Startup        never             217     1.0  \n",
              "2      100-500              Pvt Ltd            2              12     1.0  \n",
              "3        50-99              Pvt Ltd            1              20     1.0  \n",
              "4        50-99  Early Stage Startup            1              52     1.0  "
            ]
          },
          "execution_count": 18,
          "metadata": {},
          "output_type": "execute_result"
        }
      ],
      "source": [
        "df.head()"
      ]
    },
    {
      "cell_type": "markdown",
      "metadata": {
        "id": "WMgxUiGI_rqa"
      },
      "source": [
        "A company is looking for potential candidates from a pool of training program attendants. The dataset contains attendant background (demographics, current company, i.e., data features) and whether he or she is looing for a job change (data label). The company wants to build a prediction model using this dataset. Here follows the data dictionary:\n",
        "\n",
        "* enrollee_id : unique ID for candidate\n",
        "* city_development_index : developement index of the city (scaled)\n",
        "* gender: gender of candidate\n",
        "* relevent_experience: relevant experience of candidate\n",
        "* enrolled_university: type of university course enrolled if any\n",
        "* education_level: education level of candidate\n",
        "* major_discipline: education major discipline of candidate\n",
        "* experience: candidate's total experience in years\n",
        "* company_size: number of employees in the current company of candidate\n",
        "* company_type : Type of current employer\n",
        "* last_new_job: difference in years between previous job and current job\n",
        "* training_hours: training hours completed\n",
        "* target value: 0 – not looking for job change, 1 – looking for a job change"
      ]
    },
    {
      "cell_type": "markdown",
      "metadata": {
        "id": "fJ9zkij6_rqa"
      },
      "source": [
        "## 1. Coding tasks"
      ]
    },
    {
      "cell_type": "code",
      "execution_count": null,
      "metadata": {
        "id": "gHl1CaIq_rqa"
      },
      "outputs": [],
      "source": [
        "# Your code goes here. Please make sure to explain the reasons behind your data processing and modeling choices.\n",
        "# 1.1"
      ]
    },
    {
      "cell_type": "code",
      "execution_count": null,
      "metadata": {
        "id": "SBx-Z2Ra_rqa"
      },
      "outputs": [],
      "source": [
        "# Your code goes here. Please make sure to explain the reasons behind your data processing and modeling choices.\n",
        "# 1.2"
      ]
    },
    {
      "cell_type": "code",
      "execution_count": null,
      "metadata": {
        "id": "A0IDXALj_rqb"
      },
      "outputs": [],
      "source": [
        "# Your code goes here. Please make sure to explain the reasons behind your data processing and modeling choices.\n",
        "# 1.3"
      ]
    },
    {
      "cell_type": "code",
      "execution_count": null,
      "metadata": {
        "id": "EdbpfpoV_rqb"
      },
      "outputs": [],
      "source": [
        "# Your code goes here. Please make sure to explain the reasons behind your data processing and modeling choices.\n",
        "# 1.4"
      ]
    },
    {
      "cell_type": "code",
      "execution_count": null,
      "metadata": {
        "id": "CmekIyEq_rqc"
      },
      "outputs": [],
      "source": [
        "# Your code goes here. Please make sure to explain the reasons behind your data processing and modeling choices.\n",
        "# 1.5"
      ]
    },
    {
      "cell_type": "markdown",
      "metadata": {
        "id": "avfc7SpU_rqc"
      },
      "source": [
        "## 2. Open discussion questions"
      ]
    },
    {
      "cell_type": "code",
      "execution_count": null,
      "metadata": {
        "id": "MS7TGUOw_rqc"
      },
      "outputs": [],
      "source": [
        "# Your argument goes here. Please include data visualization and analysis to back up your argument.\n",
        "# 2.1"
      ]
    },
    {
      "cell_type": "code",
      "execution_count": null,
      "metadata": {
        "id": "rAsVYNes_rqc"
      },
      "outputs": [],
      "source": [
        "# Your argument goes here. Please include data visualization and analysis to back up your argument.\n",
        "# 2.2"
      ]
    },
    {
      "cell_type": "code",
      "execution_count": null,
      "metadata": {
        "id": "LtJv21fw_rqc"
      },
      "outputs": [],
      "source": [
        "# Your argument goes here. Please include data visualization and analysis to back up your argument.\n",
        "# 2.3"
      ]
    },
    {
      "cell_type": "code",
      "execution_count": null,
      "metadata": {
        "id": "7_JRW9aA_rqc"
      },
      "outputs": [],
      "source": [
        "# Your argument goes here. Please include data visualization and analysis to back up your argument.\n",
        "# 2.4"
      ]
    },
    {
      "cell_type": "code",
      "execution_count": null,
      "metadata": {
        "id": "-LA-9You_rqc"
      },
      "outputs": [],
      "source": [
        "# Your argument goes here. Please include data visualization and analysis to back up your argument.\n",
        "# 2.5"
      ]
    }
  ],
  "metadata": {
    "colab": {
      "name": "Untitled0.ipynb",
      "provenance": []
    },
    "kernelspec": {
      "display_name": "Python 3 (ipykernel)",
      "language": "python",
      "name": "python3"
    },
    "language_info": {
      "codemirror_mode": {
        "name": "ipython",
        "version": 3
      },
      "file_extension": ".py",
      "mimetype": "text/x-python",
      "name": "python",
      "nbconvert_exporter": "python",
      "pygments_lexer": "ipython3",
      "version": "3.8.3"
    }
  },
  "nbformat": 4,
  "nbformat_minor": 0
}